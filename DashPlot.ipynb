{
 "cells": [
  {
   "cell_type": "markdown",
   "metadata": {},
   "source": [
    "### A. Import dữ liệu cần thiết"
   ]
  },
  {
   "cell_type": "code",
   "execution_count": 170,
   "metadata": {},
   "outputs": [],
   "source": [
    "import pandas as pd\n",
    "import numpy as np\n",
    "import plotly.express as px\n",
    "from collections import Counter\n",
    "from dash import  html, dcc, Input, Output, dash_table, State"
   ]
  },
  {
   "cell_type": "code",
   "execution_count": 171,
   "metadata": {},
   "outputs": [],
   "source": [
    "trending_videos = pd.read_csv('Data/trending_videos.csv', index_col=False)\n",
    "trending_videos_unique = pd.read_csv('Data/trending_videos_unique.csv', index_col=False)"
   ]
  },
  {
   "cell_type": "markdown",
   "metadata": {},
   "source": [
    "### B. Trực quan hoá"
   ]
  },
  {
   "cell_type": "markdown",
   "metadata": {},
   "source": [
    "#### 1. Phân tích tổng quan"
   ]
  },
  {
   "cell_type": "markdown",
   "metadata": {},
   "source": [
    "##### a. Thời điểm đăng trong ngày của video"
   ]
  },
  {
   "cell_type": "code",
   "execution_count": 172,
   "metadata": {},
   "outputs": [],
   "source": [
    "upload_time = trending_videos_unique[['published_at']].copy()\n",
    "upload_time['published_at'] = pd.to_datetime(upload_time['published_at'])\n",
    "upload_time['hour'] = upload_time['published_at'].dt.hour\n",
    "time_ranges = [f'{i}h - {i+1}h' for i in range(24)]\n",
    "video_counts = [upload_time[(upload_time['hour'] >= i) & (upload_time['hour'] < i+1)].shape[0] for i in range(24)]\n",
    "time_video_df = pd.DataFrame({'Time Range': time_ranges, 'Video Count': video_counts})"
   ]
  },
  {
   "cell_type": "markdown",
   "metadata": {},
   "source": [
    "##### b. Thời gian tồn tại trên trending"
   ]
  },
  {
   "cell_type": "code",
   "execution_count": 173,
   "metadata": {},
   "outputs": [],
   "source": [
    "time_on_trending = trending_videos_unique[['trending_time']].copy()\n",
    "time_on_trending = time_on_trending.groupby('trending_time').size().reset_index(name='frequency')\n",
    "time_on_trending['trending_time'] = pd.to_timedelta(time_on_trending['trending_time'])\n",
    "time_on_trending = time_on_trending.sort_values(by='trending_time')"
   ]
  },
  {
   "cell_type": "code",
   "execution_count": 174,
   "metadata": {},
   "outputs": [],
   "source": [
    "time_on_trending['days_on_trending'] = time_on_trending['trending_time'].dt.days"
   ]
  },
  {
   "cell_type": "markdown",
   "metadata": {},
   "source": [
    "#### 2. Phân tích theo chủ đề"
   ]
  },
  {
   "cell_type": "markdown",
   "metadata": {},
   "source": [
    "##### a. Phần trăm của từng chủ đề trên trending"
   ]
  },
  {
   "cell_type": "code",
   "execution_count": 175,
   "metadata": {},
   "outputs": [],
   "source": [
    "category_counts = trending_videos['category'].copy().value_counts()\n",
    "category_full = category_counts.reset_index()"
   ]
  },
  {
   "cell_type": "code",
   "execution_count": 176,
   "metadata": {},
   "outputs": [],
   "source": [
    "threshold = 400\n",
    "category_pie = category_full.copy()\n",
    "category_pie['category'] = category_pie['category'].apply(lambda x: x if category_counts[x] >= threshold else 'Others')\n",
    "category_pie = category_pie.groupby('category').sum()"
   ]
  },
  {
   "cell_type": "markdown",
   "metadata": {},
   "source": [
    "##### b. Trung bình lượt tương tác theo chủ đề"
   ]
  },
  {
   "cell_type": "code",
   "execution_count": 177,
   "metadata": {},
   "outputs": [],
   "source": [
    "pd.options.display.float_format = None\n",
    "general_category = trending_videos[['category', 'view_count', 'like_count', 'comment_count']]\n",
    "general_category = general_category.groupby('category').mean().reset_index()\n",
    "general_category['like_to_view'] = (general_category['like_count'] / general_category['view_count']) * 100\n",
    "general_category['comment_to_view'] = (general_category['comment_count'] / general_category['view_count'])* 100"
   ]
  },
  {
   "cell_type": "markdown",
   "metadata": {},
   "source": [
    "##### c. Thời gian trending trung bình của chủ đề"
   ]
  },
  {
   "cell_type": "code",
   "execution_count": 178,
   "metadata": {},
   "outputs": [],
   "source": [
    "trending_category = trending_videos_unique[['category', 'trending_time']].copy()\n",
    "trending_category['trending_time'] = pd.to_timedelta(trending_category['trending_time'])\n",
    "trending_category = trending_category.groupby('category').mean()\n",
    "trending_category = trending_category / np.timedelta64(1, 'h')"
   ]
  },
  {
   "cell_type": "code",
   "execution_count": 179,
   "metadata": {},
   "outputs": [],
   "source": [
    "trending_category = trending_category.sort_values('trending_time')"
   ]
  },
  {
   "cell_type": "markdown",
   "metadata": {},
   "source": [
    "#### 3. Phân tích theo nội dung chi tiết"
   ]
  },
  {
   "cell_type": "markdown",
   "metadata": {},
   "source": [
    "##### a. Từ khoá trong tag"
   ]
  },
  {
   "cell_type": "code",
   "execution_count": 180,
   "metadata": {},
   "outputs": [],
   "source": [
    "video_tags = trending_videos_unique['video_tags'].copy()\n",
    "video_tags = video_tags.dropna()\n",
    "tags_list = []\n",
    "for tagline in video_tags:\n",
    "    tags_list.extend(tagline.split(','))\n",
    "count_tags = Counter(tags_list)\n",
    "tags_df = pd.DataFrame(count_tags.items(),columns=['tag','count'])\n",
    "tags_df_sort = tags_df.sort_values('count',ascending=True).tail(25)"
   ]
  },
  {
   "cell_type": "markdown",
   "metadata": {},
   "source": [
    "#### 4. Phân tích theo thời gian"
   ]
  },
  {
   "cell_type": "markdown",
   "metadata": {},
   "source": [
    "##### a. Độ dài video theo thời gian"
   ]
  },
  {
   "cell_type": "code",
   "execution_count": 181,
   "metadata": {},
   "outputs": [],
   "source": [
    "duration_videos = trending_videos[['snapshot_date', 'duration']].copy()\n",
    "duration_videos['week'] = pd.to_datetime(duration_videos['snapshot_date']).dt.to_period('W')\n",
    "bins = [pd.Timedelta(minutes=0), pd.Timedelta(minutes=1), pd.Timedelta(minutes=10), pd.Timedelta(minutes=60), pd.Timedelta(hours=24)]\n",
    "labels = ['<1p', '1-10p', '10-60p', '>60p']\n",
    "duration_videos['duration_time'] = pd.cut(duration_videos['duration'], bins=bins, labels=labels, right=False)\n",
    "duration_videos = duration_videos.groupby(['week', 'duration_time'], observed=False).size().unstack(fill_value=0)\n",
    "duration_videos = duration_videos.reset_index()\n",
    "\n",
    "for col in duration_videos.columns[1:]:\n",
    "    duration_videos[col] = duration_videos[col].cumsum()\n"
   ]
  },
  {
   "cell_type": "code",
   "execution_count": 182,
   "metadata": {},
   "outputs": [],
   "source": [
    "duration_videos['week'] = duration_videos['week'].astype(str)\n",
    "duration_videos_long = duration_videos.melt(id_vars='week', \n",
    "\t\t\t\t\t\t\t\t\t\t\tvar_name='time', \n",
    "\t\t\t\t\t\t\t\t\t\t\tvalue_name='count')"
   ]
  },
  {
   "cell_type": "markdown",
   "metadata": {},
   "source": [
    "##### b. Chủ đề theo thời gian"
   ]
  },
  {
   "cell_type": "code",
   "execution_count": 183,
   "metadata": {},
   "outputs": [],
   "source": [
    "video_counts = 300\n",
    "category_area = trending_videos[['snapshot_date', 'category']].copy()\n",
    "category_area['category'] = category_area['category'].apply(lambda x: x if category_counts[x] >= video_counts else 'Others')\n",
    "category_area = category_area.groupby(['snapshot_date', 'category']).size().unstack(fill_value=0)\n",
    "category_area.index = pd.to_datetime(category_area.index)\n",
    "category_area['month'] = category_area.index.to_period('W')\n",
    "category_area = category_area.groupby('month').sum()\n",
    "category_area = category_area.reset_index()"
   ]
  },
  {
   "cell_type": "code",
   "execution_count": 184,
   "metadata": {},
   "outputs": [],
   "source": [
    "for col in category_area.columns[1:]:\n",
    "    category_area[col] = category_area[col].cumsum()"
   ]
  },
  {
   "cell_type": "code",
   "execution_count": 185,
   "metadata": {},
   "outputs": [],
   "source": [
    "category_area['month'] = category_area['month'].astype(str)\n",
    "category_area_long = category_area.melt(id_vars='month', \n",
    "                                        var_name='categories', \n",
    "                                        value_name='count')\n",
    "category_area_long = category_area_long.sort_values(by=['month', 'count'], ascending=[True, False])"
   ]
  },
  {
   "cell_type": "markdown",
   "metadata": {},
   "source": [
    "##### c. Trung bình tương tác theo thời gian"
   ]
  },
  {
   "cell_type": "code",
   "execution_count": 186,
   "metadata": {},
   "outputs": [],
   "source": [
    "general_videos = trending_videos[[\"view_count\", \"like_count\", \"comment_count\"]].copy()"
   ]
  },
  {
   "cell_type": "code",
   "execution_count": 187,
   "metadata": {},
   "outputs": [],
   "source": [
    "general_month = trending_videos[[\"snapshot_date\", \"view_count\", \"like_count\", \"comment_count\"]].copy()\n",
    "\n",
    "general_month['snapshot_date'] = pd.to_datetime(general_month['snapshot_date'])\n",
    "\n",
    "general_month['snapshot_date'] = general_month['snapshot_date'].dt.to_period('M')\n",
    "\n",
    "general_month = general_month.groupby('snapshot_date').mean().reset_index()\n"
   ]
  },
  {
   "cell_type": "markdown",
   "metadata": {},
   "source": [
    "### Dash"
   ]
  },
  {
   "cell_type": "code",
   "execution_count": null,
   "metadata": {},
   "outputs": [
    {
     "data": {
      "text/html": [
       "\n",
       "        <iframe\n",
       "            width=\"100%\"\n",
       "            height=\"650\"\n",
       "            src=\"http://127.0.0.1:8050/\"\n",
       "            frameborder=\"0\"\n",
       "            allowfullscreen\n",
       "            \n",
       "        ></iframe>\n",
       "        "
      ],
      "text/plain": [
       "<IPython.lib.display.IFrame at 0x1945f112c90>"
      ]
     },
     "metadata": {},
     "output_type": "display_data"
    }
   ],
   "source": [
    "app = dash.Dash(__name__)\n",
    "\n",
    "app.layout = html.Div([\n",
    "    dcc.Dropdown(\n",
    "        id='chart-dropdown',\n",
    "        options=[\n",
    "            {'label': 'Số video theo giờ', 'value': 'hourly'},\n",
    "            {'label': 'Biểu đồ phân phối video', 'value': 'other0'},\n",
    "            {'label': 'Tỉ lệ phần trăm của từng chủ đề', 'value': 'other1'},\n",
    "            {'label': 'Biểu đồ Tương tác Trung bình Theo Danh mục', 'value': 'other2'},\n",
    "            {'label': 'Thời gian trending trung bình của chủ đề', 'value': 'other3'},\n",
    "            {'label': 'Từ khoá trong tag', 'value': 'other4'},\n",
    "            {'label': 'Độ dài video theo thời gian', 'value': 'other6'},\n",
    "            {'label': 'Chủ đề theo thời gian', 'value': 'other7'},\n",
    "            {'label': 'Trung bình tương tác theo thời gian', 'value': 'other8'},\n",
    "        ],\n",
    "        value='hourly'\n",
    "    ),\n",
    "    html.Div([\n",
    "        dcc.RadioItems(\n",
    "            id='interaction-selector',  \n",
    "            options=[],  \n",
    "            value='like_to_view',\n",
    "            inline=True,\n",
    "            style={'margin-top': '10px', 'display': 'none'}  \n",
    "        )\n",
    "    ], id='interaction-selector-container'),\n",
    "    html.Div([\n",
    "        html.Div([dcc.Graph(id='graph', style={'height': '550px', 'width': '95%'})], className=\"six columns\"),\n",
    "        html.Div([dash_table.DataTable(\n",
    "            id='data_table',\n",
    "            columns=[],\n",
    "            data=[],\n",
    "            style_table={'height': '300px', 'overflowY': 'auto'},\n",
    "            style_cell={'textAlign': 'center', 'padding': '5px'},\n",
    "            style_header={'backgroundColor': 'lightgrey', 'fontWeight': 'bold'}\n",
    "        )], id='data_table-container', className=\"six columns\", style={'display': 'block'})\n",
    "    ], className=\"row\")\n",
    "])\n",
    "\n",
    "\n",
    "@app.callback(\n",
    "    [Output('graph', 'figure'),\n",
    "     Output('data_table', 'columns'),\n",
    "     Output('data_table', 'data'),\n",
    "     Output('interaction-selector', 'style'),\n",
    "     Output('interaction-selector', 'options'),\n",
    "     Output('data_table-container', 'style')],\n",
    "    [Input('chart-dropdown', 'value'),\n",
    "     Input('interaction-selector', 'value')],\n",
    "    State('interaction-selector', 'value')\n",
    ")\n",
    "\n",
    "\n",
    "def update_graph(selected_chart, selected_metric, current_metric):\n",
    "    interaction_options = []\n",
    "    interaction_style = {'display': 'none'}\n",
    "    table_style = {'display': 'block'}\n",
    "    fig = {}\n",
    "    columns = []\n",
    "    table_data = []\n",
    "\n",
    "\n",
    "    if selected_chart == 'hourly':\n",
    "        fig = px.bar(\n",
    "            time_video_df, \n",
    "            x='Time Range', \n",
    "            y='Video Count', \n",
    "            title='Số lượng video được tải lên trong từng khoảng thời gian',\n",
    "            labels={'Time Range': 'Khoảng Thời Gian', 'Video Count': 'Số Lượng Video'},\n",
    "            color='Video Count',\n",
    "            color_continuous_scale='Viridis'\n",
    "        ).update_layout(xaxis={'tickangle': 45}, showlegend=False)\n",
    "\n",
    "        columns = [{\"name\": col, \"id\": col} for col in time_video_df.columns]\n",
    "        table_data = time_video_df.to_dict('records')\n",
    "\n",
    "\n",
    "    elif selected_chart == 'other0':\n",
    "        fig = px.bar(\n",
    "            time_on_trending, \n",
    "            x='days_on_trending', \n",
    "            y='frequency', \n",
    "            labels={'days_on_trending': 'Days', 'frequency': 'Videos'},\n",
    "            title='Phân bố video theo số ngày trên xu hướng',\n",
    "            color='frequency',\n",
    "            color_continuous_scale='Viridis'\n",
    "        )\n",
    "        time_on_trending_filtered = time_on_trending.drop(columns=['trending_time'])\n",
    "        columns = [{\"name\": col, \"id\": col} for col in time_on_trending_filtered.columns]\n",
    "        table_data = time_on_trending_filtered.to_dict('records')\n",
    "\n",
    "\n",
    "    elif selected_chart == 'other1':\n",
    "        fig = px.pie(category_pie,\n",
    "                    values='count',\n",
    "                    names=category_pie.index,\n",
    "                    title='Tỉ lệ phần trăm của từng chủ đề')\n",
    "        category_pie_reset = category_full.reset_index().drop(columns=['index'])\n",
    "        columns = [{\"name\": col, \"id\": col} for col in category_pie_reset.columns]\n",
    "        table_data = category_pie_reset.to_dict('records')\n",
    "\n",
    "\n",
    "    elif selected_chart == 'other2':\n",
    "        if selected_metric != 'like_to_view'  and selected_metric != 'comment_to_view':\n",
    "            selected_metric = 'like_to_view'\n",
    "        interaction_options = [\n",
    "            {'label': 'Tỷ lệ Like/Views', 'value': 'like_to_view'},\n",
    "            {'label': 'Tỷ lệ Comment/Views', 'value': 'comment_to_view'}\n",
    "        ]\n",
    "        interaction_style = {'margin-top': '10px', 'display': 'block'}\n",
    "        \n",
    "        if selected_metric == 'like_to_view':\n",
    "            general_category_reset=general_category\n",
    "            general_category_reset['like_to_view'] = general_category_reset['like_to_view'].round(2)\n",
    "            general_category_reset = general_category_reset.sort_values(by='like_to_view')\n",
    "            fig = px.bar(\n",
    "                general_category_reset,\n",
    "                x='category',\n",
    "                y='like_to_view',\n",
    "                labels={'category': 'Danh mục', 'like_to_view': 'Tỷ lệ Like/Views'},\n",
    "                title='Tỷ lệ Like/Views theo Danh mục',\n",
    "                text_auto=True,\n",
    "                color='like_to_view',\n",
    "                color_continuous_scale='Spectral'\n",
    "            ).update_layout(xaxis_tickangle=45)\n",
    "            fig.update_traces(\n",
    "                textposition='outside'  \n",
    "            )\n",
    "            columns = [{\"name\": \"Danh mục\", \"id\": \"category\"},\n",
    "                       {\"name\": \"Tỷ lệ Like/Views (%)\", \"id\": \"like_to_view\"}]\n",
    "            table_data = general_category_reset.to_dict('records')\n",
    "\n",
    "        elif selected_metric == 'comment_to_view':\n",
    "            general_category['comment_to_view'] = general_category['comment_to_view'].round(3)\n",
    "            general_category_reset_1 = general_category.sort_values(by='comment_to_view')\n",
    "            fig = px.bar(\n",
    "                general_category_reset_1,\n",
    "                x='category',\n",
    "                y='comment_to_view',\n",
    "                labels={'category': 'Danh mục', 'comment_to_view': 'Tỷ lệ Comment/Views'},\n",
    "                title='Tỷ lệ Comment/Views theo Danh mục',\n",
    "                text_auto=True,\n",
    "                color='comment_to_view',\n",
    "                color_continuous_scale='Spectral'\n",
    "            ).update_layout(xaxis_tickangle=45)\n",
    "            fig.update_traces(\n",
    "                textposition='outside'  \n",
    "            )\n",
    "            columns = [{\"name\": \"Danh mục\", \"id\": \"category\"},\n",
    "                       {\"name\": \"Tỷ lệ Comment/Views (%)\", \"id\": \"comment_to_view\"}]\n",
    "            table_data = general_category_reset_1.to_dict('records')\n",
    "\n",
    "\n",
    "    elif selected_chart == 'other3':\n",
    "        fig = px.bar(trending_category,\n",
    "                    x=trending_category['trending_time'],\n",
    "                    y=trending_category.index,\n",
    "                    labels={'x': 'Category', 'y': 'Average Trending Time (hours)'},\n",
    "                    title='Thời gian trung bình trên xu hướng theo danh mục')\n",
    "        trending_category_reset = trending_category.reset_index()\n",
    "        columns = [{\"name\": col, \"id\": col} for col in trending_category_reset.columns]\n",
    "        table_data = trending_category_reset.to_dict('records')\n",
    "\n",
    "\n",
    "    elif selected_chart == 'other4':\n",
    "        fig = px.bar(tags_df_sort,\n",
    "                   x='count',\n",
    "                   y='tag',\n",
    "                   title='Các từ khóa phổ biến',)\n",
    "        tags_df_sort_reset = tags_df_sort.reset_index().drop(columns=['index'])\n",
    "        columns = [{\"name\": col, \"id\": col} for col in tags_df_sort_reset.columns]\n",
    "        table_data = tags_df_sort_reset.to_dict('records')\n",
    "\n",
    "\n",
    "    # elif selected_chart == 'other5':\n",
    "    #     fig = px.bar(len_df_to_plot,\n",
    "    #                x='len',y='count',\n",
    "    #                color='count',\n",
    "    #                color_continuous_scale='Viridis')\n",
    "    #     len_df_to_plot_reset = len_df_to_plot.reset_index().drop(columns=['index'])\n",
    "    #     columns = [{\"name\": col, \"id\": col} for col in len_df_to_plot_reset.columns]\n",
    "    #     table_data = len_df_to_plot_reset.to_dict('records')\n",
    "\n",
    "\n",
    "    elif selected_chart == 'other6':\n",
    "        fig = px.bar(duration_videos_long, \n",
    "                    x='count', \n",
    "                    y='time',\n",
    "                    orientation='h', \n",
    "                    color='time', \n",
    "                    animation_frame='week', \n",
    "                    title='Thời lượng video theo thời gian',\n",
    "                    labels={'count': 'Number of Videos', 'time': 'Duration Range', 'week': 'Week'},\n",
    "                    text='count')\n",
    "\n",
    "        fig.update_layout(\n",
    "            xaxis_title=\"Number of Videos\", \n",
    "            yaxis_title=\"Duration Range\",\n",
    "            showlegend=False\n",
    "        )\n",
    "\n",
    "        fig.update_layout(\n",
    "            updatemenus=[{\n",
    "                'buttons': [\n",
    "                    {\n",
    "                        'args': [None, {\n",
    "                            'frame': {'duration': 100, 'redraw': True},  \n",
    "                            'fromcurrent': True,\n",
    "                            'transition': {'duration': 100, 'easing': 'cubic-in-out'} \n",
    "                        }], 'label': '&#9654;', 'method': 'animate'\n",
    "                    },\n",
    "                    {\n",
    "                        'args': [[None], {\n",
    "                            'frame': {'duration': 0, 'redraw': True},\n",
    "                            'mode': 'immediate',\n",
    "                            'transition': {'duration': 0}\n",
    "                        }], 'label': 'Pause', 'method': 'animate'\n",
    "                    }\n",
    "                ]\n",
    "            }]\n",
    "        )\n",
    "        duration_videos_long_reset = duration_videos_long.reset_index().drop(columns=['index'])\n",
    "        columns = [{\"name\": col, \"id\": col} for col in duration_videos_long_reset.columns]\n",
    "        table_data = duration_videos_long_reset.to_dict('records')\n",
    "        interaction_style = {'display': 'none'}\n",
    "        table_style = {'display': 'none'}\n",
    "        \n",
    "\n",
    "    elif selected_chart == 'other7':\n",
    "        fig = px.bar(\n",
    "        category_area_long,\n",
    "        x='count', \n",
    "        y='categories',\n",
    "        orientation='h', \n",
    "        color='categories', \n",
    "        animation_frame='month', \n",
    "        title='Chủ đề của video trending theo thời gian',\n",
    "        labels={\n",
    "            'count': 'Number of Videos', \n",
    "            'categories': 'Duration Range', \n",
    "            'month': 'Week'\n",
    "        },\n",
    "        text='count',\n",
    "    )\n",
    "        category_area_long['categories'] = pd.Categorical(category_area_long['categories'], \n",
    "        categories=category_area_long.groupby('categories')['count'].sum().sort_values(ascending=False).index)\n",
    "        fig.update_layout(yaxis={'categoryorder':'total ascending'})\n",
    "        fig.update_layout(showlegend=False)\n",
    "        fig.update_traces(textposition='outside')\n",
    "        columns = []  \n",
    "        table_data = []  \n",
    "        interaction_style = {'display': 'none'}\n",
    "        table_style = {'display': 'none'}\n",
    "\n",
    "    elif selected_chart == 'other8':\n",
    "        general_month['snapshot_date'] = general_month['snapshot_date'].astype(str)\n",
    "        general_month['view_count'] = general_month['view_count'].round(2)\n",
    "        general_month['comment_count'] = general_month['comment_count'].round(2)\n",
    "        general_month['like_count'] = general_month['like_count'].round(2)\n",
    "\n",
    "        if selected_metric != 'view_count' and selected_metric != 'like_count'and selected_metric != 'comment_count':\n",
    "            selected_metric = 'view_count'  \n",
    "        interaction_options = [\n",
    "            {'label': 'View Count', 'value': 'view_count'},\n",
    "            {'label': 'Like Count', 'value': 'like_count'},\n",
    "            {'label': 'Comment Count', 'value': 'comment_count'}\n",
    "        ]\n",
    "        interaction_style = {'margin-top': '10px', 'display': 'block'}\n",
    "        \n",
    "        if selected_metric == 'view_count':\n",
    "            fig = px.bar(\n",
    "                general_month,\n",
    "                x='snapshot_date',\n",
    "                y='view_count',\n",
    "                title='Monthly View Count',\n",
    "                labels={'snapshot_date': 'Month', 'view_count': 'Average View Count'},\n",
    "                text_auto=True\n",
    "            ).update_layout(xaxis_tickangle=45)\n",
    "            fig.update_traces(\n",
    "                textposition='outside'  \n",
    "            )\n",
    "            columns = [{\"name\": \"Month\", \"id\": \"snapshot_date\"},\n",
    "                    {\"name\": \"Average View Count\", \"id\": \"view_count\"}]\n",
    "            table_data = general_month[['snapshot_date', 'view_count']].to_dict('records')\n",
    "\n",
    "        elif selected_metric == 'like_count':\n",
    "            fig = px.bar(\n",
    "                general_month,\n",
    "                x='snapshot_date',\n",
    "                y='like_count',\n",
    "                title='Monthly Like Count',\n",
    "                labels={'snapshot_date': 'Month', 'like_count': 'Average Like Count'},\n",
    "                text_auto=True\n",
    "            ).update_layout(xaxis_tickangle=45)\n",
    "            fig.update_traces(\n",
    "                textposition='outside'  \n",
    "            )\n",
    "            columns = [{\"name\": \"Month\", \"id\": \"snapshot_date\"},\n",
    "                    {\"name\": \"Average Like Count\", \"id\": \"like_count\"}]\n",
    "            table_data = general_month[['snapshot_date', 'like_count']].to_dict('records')\n",
    "\n",
    "        elif selected_metric == 'comment_count':\n",
    "            fig = px.bar(\n",
    "                general_month,\n",
    "                x='snapshot_date',\n",
    "                y='comment_count',\n",
    "                title='Monthly Comment Count',\n",
    "                labels={'snapshot_date': 'Month', 'comment_count': 'Average Comment Count'},\n",
    "                text_auto=True\n",
    "            ).update_layout(xaxis_tickangle=45)\n",
    "            fig.update_traces(\n",
    "                textposition='outside'  \n",
    "            )\n",
    "            columns = [{\"name\": \"Month\", \"id\": \"snapshot_date\"},\n",
    "                    {\"name\": \"Average Comment Count\", \"id\": \"comment_count\"}]\n",
    "            table_data = general_month[['snapshot_date', 'comment_count']].to_dict('records')\n",
    "\n",
    "\n",
    "    return fig, columns, table_data, interaction_style, interaction_options, table_style\n",
    "\n",
    "\n",
    "if __name__ == '__main__':\n",
    "    app.run_server(debug=True)\n"
   ]
  }
 ],
 "metadata": {
  "kernelspec": {
   "display_name": "baitaplon",
   "language": "python",
   "name": "myenv"
  },
  "language_info": {
   "codemirror_mode": {
    "name": "ipython",
    "version": 3
   },
   "file_extension": ".py",
   "mimetype": "text/x-python",
   "name": "python",
   "nbconvert_exporter": "python",
   "pygments_lexer": "ipython3",
   "version": "3.12.4"
  }
 },
 "nbformat": 4,
 "nbformat_minor": 2
}
